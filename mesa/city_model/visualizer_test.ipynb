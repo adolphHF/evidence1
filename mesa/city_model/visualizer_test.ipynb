{
 "cells": [
  {
   "cell_type": "code",
   "execution_count": 1,
   "metadata": {},
   "outputs": [
    {
     "name": "stdout",
     "output_type": "stream",
     "text": [
      "Mesa version: 3.0.3\n"
     ]
    }
   ],
   "source": [
    "import mesa\n",
    "import os\n",
    "import sys\n",
    "print(f\"Mesa version: {mesa.__version__}\")\n",
    "\n",
    "from mesa.visualization import SolaraViz, make_plot_component, make_space_component\n",
    "sys.path.append(os.path.abspath(\"..\"))\n",
    "# Import the local MoneyModel.py\n",
    "from city_model.model import CityModel\n",
    "from city_model.agents import TrafficLightAgent"
   ]
  },
  {
   "cell_type": "code",
   "execution_count": 2,
   "metadata": {},
   "outputs": [],
   "source": [
    "def agent_portrayal(agent):\n",
    "\n",
    "    if(isinstance(agent, TrafficLightAgent)):\n",
    "        return {\n",
    "            \"color\": \"tab:green\" if agent.allow_pass == True else \"tab:red\",\n",
    "            \"size\": 50\n",
    "        }\n",
    "\n",
    "    return {\n",
    "        \"color\": \"tab:blue\",\n",
    "        \"size\": 50,\n",
    "    }"
   ]
  },
  {
   "cell_type": "code",
   "execution_count": 3,
   "metadata": {},
   "outputs": [],
   "source": [
    "model_params = {\n",
    "    \"n\": {\n",
    "        \"type\": \"SliderInt\",\n",
    "        \"value\": 50,\n",
    "        \"label\": \"Number of agents:\",\n",
    "        \"min\": 10,\n",
    "        \"max\": 100,\n",
    "        \"step\": 1,\n",
    "    },\n",
    "    \"width\": 10,\n",
    "    \"height\": 10,\n",
    "}"
   ]
  },
  {
   "cell_type": "code",
   "execution_count": 4,
   "metadata": {},
   "outputs": [
    {
     "name": "stderr",
     "output_type": "stream",
     "text": [
      "/Users/carlos/Documents/Escuela/Semestre5/City/evidence1/mesa/city_model/model.py:18: FutureWarning: The new PropertyLayer and _PropertyGrid classes experimental. It may be changed or removed in any and all future releases, including patch releases.\n",
      "We would love to hear what you think about this new feature. If you have any thoughts, share them with us here: https://github.com/projectmesa/mesa/discussions/1932\n",
      "  self.parking_layer = mesa.space.PropertyLayer(\"parkings\", width, height, np.int64(0), np.int64)\n"
     ]
    },
    {
     "data": {
      "application/vnd.jupyter.widget-view+json": {
       "model_id": "95c54dbdf2604983acc41044add3f033",
       "version_major": 2,
       "version_minor": 0
      },
      "text/html": [
       "Cannot show widget. You probably want to rerun the code cell above (<i>Click in the code cell, and press Shift+Enter <kbd>⇧</kbd>+<kbd>↩</kbd></i>)."
      ],
      "text/plain": [
       "Cannot show ipywidgets in text"
      ]
     },
     "metadata": {},
     "output_type": "display_data"
    }
   ],
   "source": [
    "model1 = CityModel(width=24, height=24, num_buildings=10, num_parking=8, seed=420, num_cars=30)\n",
    "\n",
    "proplayer_portrayal ={\"buildings\":{\"color\":\"black\", \"alpha\": 0.25, \"colorbar\": False}, \"parkings\":{\"color\":\"red\", \"alpha\": 0.25, \"colorbar\": False}, \"roundabout\":{\"color\":\"green\", \"alpha\": 0.25, \"colorbar\": False}}\n",
    "\n",
    "\n",
    "SpaceGraph = make_space_component(agent_portrayal, propertylayer_portrayal=proplayer_portrayal)\n",
    "GiniPlot = make_plot_component(\"Gini\")\n",
    "\n",
    "page = SolaraViz(\n",
    "    model1,\n",
    "    components=[SpaceGraph],\n",
    "    model_params=model_params,\n",
    "    name=\"City Model\",\n",
    ")\n",
    "# This is required to render the visualization in the Jupyter notebook\n",
    "page"
   ]
  },
  {
   "cell_type": "code",
   "execution_count": null,
   "metadata": {},
   "outputs": [],
   "source": []
  }
 ],
 "metadata": {
  "kernelspec": {
   "display_name": "venv",
   "language": "python",
   "name": "python3"
  },
  "language_info": {
   "codemirror_mode": {
    "name": "ipython",
    "version": 3
   },
   "file_extension": ".py",
   "mimetype": "text/x-python",
   "name": "python",
   "nbconvert_exporter": "python",
   "pygments_lexer": "ipython3",
   "version": "3.13.0"
  }
 },
 "nbformat": 4,
 "nbformat_minor": 2
}
